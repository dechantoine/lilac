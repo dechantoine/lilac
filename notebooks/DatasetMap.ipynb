{
 "cells": [
  {
   "cell_type": "markdown",
   "metadata": {},
   "source": [
    "# Dataset.map()\n",
    "\n",
    "This notebook shows a workflow for using `Dataset.map`. This method is useful for creating a new column with a custom map function to generate the output.\n"
   ]
  },
  {
   "cell_type": "code",
   "execution_count": 1,
   "metadata": {},
   "outputs": [
    {
     "name": "stderr",
     "output_type": "stream",
     "text": [
      "/Users/nikhil/Code/lilac/.venv/lib/python3.9/site-packages/tqdm/auto.py:21: TqdmWarning: IProgress not found. Please update jupyter and ipywidgets. See https://ipywidgets.readthedocs.io/en/stable/user_install.html\n",
      "  from .autonotebook import tqdm as notebook_tqdm\n"
     ]
    }
   ],
   "source": [
    "import lilac as ll\n",
    "\n",
    "ll.set_project_dir('./data')\n",
    "\n",
    "try:\n",
    "  glue = ll.get_dataset('local', 'glue_ax_map')\n",
    "except:\n",
    "  glue = ll.create_dataset(\n",
    "    ll.DatasetConfig(\n",
    "      namespace='local',\n",
    "      name='glue_ax_map',\n",
    "      source=ll.HuggingFaceSource(\n",
    "        dataset_name='glue',\n",
    "        config_name='ax',\n",
    "      )))\n",
    "\n",
    "#ll.start_server()\n"
   ]
  },
  {
   "cell_type": "markdown",
   "metadata": {},
   "source": [
    "# Upper case 'premise'\n",
    "\n",
    "The following map will upper case the 'premise' field from the dataset.\n",
    "\n",
    "The output of the map is returned as a generator.\n"
   ]
  },
  {
   "cell_type": "code",
   "execution_count": 2,
   "metadata": {},
   "outputs": [
    {
     "name": "stderr",
     "output_type": "stream",
     "text": [
      "Computing map over ['*', '__rowid__']: 100%|██████████| 1104/1104 [00:00<00:00, 55799.38it/s]\n"
     ]
    },
    {
     "name": "stdout",
     "output_type": "stream",
     "text": [
      "THE CAT SAT ON THE MAT.\n",
      "\n"
     ]
    },
    {
     "name": "stderr",
     "output_type": "stream",
     "text": [
      "Computing map over ['*', '__rowid__']: 100%|██████████| 1104/1104 [00:00<00:00, 65827.61it/s]"
     ]
    },
    {
     "name": "stdout",
     "output_type": "stream",
     "text": [
      "Wrote map output to ./data/datasets/local/glue_ax_map/premise_upper-00000-of-00001.parquet\n",
      "{'premise': 'The cat sat on the mat.', 'premise_upper': 'THE CAT SAT ON THE MAT.'}\n",
      "{'premise': \"When you've got no snow, it's really hard to learn a snow sport so we looked at all the different ways I could mimic being on snow without actually being on snow.\", 'premise_upper': \"WHEN YOU'VE GOT NO SNOW, IT'S REALLY HARD TO LEARN A SNOW SPORT SO WE LOOKED AT ALL THE DIFFERENT WAYS I COULD MIMIC BEING ON SNOW WITHOUT ACTUALLY BEING ON SNOW.\"}\n",
      "{'premise': \"When you've got snow, it's really hard to learn a snow sport so we looked at all the different ways I could mimic being on snow without actually being on snow.\", 'premise_upper': \"WHEN YOU'VE GOT SNOW, IT'S REALLY HARD TO LEARN A SNOW SPORT SO WE LOOKED AT ALL THE DIFFERENT WAYS I COULD MIMIC BEING ON SNOW WITHOUT ACTUALLY BEING ON SNOW.\"}\n"
     ]
    },
    {
     "name": "stderr",
     "output_type": "stream",
     "text": [
      "\n"
     ]
    }
   ],
   "source": [
    "# Upper case 'premise' and print the first result\n",
    "# This call does not save the output to a column.\n",
    "res = glue.map(lambda item: item['premise'].upper())\n",
    "print(next(iter(res)))\n",
    "print()\n",
    "\n",
    "# Write the output to a column 'premise_upper'.\n",
    "glue.map(lambda item: item['premise'].upper(), output_path='premise_upper', overwrite=True)\n",
    "rows = glue.select_rows(['premise', 'premise_upper'], limit=3)\n",
    "for row in rows:\n",
    "  print(row)\n"
   ]
  },
  {
   "cell_type": "markdown",
   "metadata": {},
   "source": []
  },
  {
   "cell_type": "code",
   "execution_count": null,
   "metadata": {},
   "outputs": [],
   "source": []
  }
 ],
 "metadata": {
  "kernelspec": {
   "display_name": ".venv",
   "language": "python",
   "name": "python3"
  },
  "language_info": {
   "codemirror_mode": {
    "name": "ipython",
    "version": 3
   },
   "file_extension": ".py",
   "mimetype": "text/x-python",
   "name": "python",
   "nbconvert_exporter": "python",
   "pygments_lexer": "ipython3",
   "version": "3.9.17"
  }
 },
 "nbformat": 4,
 "nbformat_minor": 2
}
